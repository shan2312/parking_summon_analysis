{
 "cells": [
  {
   "cell_type": "code",
   "execution_count": 1,
   "metadata": {},
   "outputs": [],
   "source": [
    "from nyc_parking_ticket import ParkingSummonIterator, calculate_violations_by_make"
   ]
  },
  {
   "cell_type": "code",
   "execution_count": 2,
   "metadata": {},
   "outputs": [
    {
     "data": {
      "text/plain": [
       "[('TOYOT', 112),\n",
       " ('HONDA', 106),\n",
       " ('FORD', 104),\n",
       " ('CHEVR', 76),\n",
       " ('NISSA', 70),\n",
       " ('DODGE', 45),\n",
       " ('FRUEH', 44),\n",
       " ('ME/BE', 38),\n",
       " ('GMC', 35),\n",
       " ('HYUND', 35),\n",
       " ('BMW', 34),\n",
       " ('LEXUS', 26),\n",
       " ('INTER', 25),\n",
       " ('JEEP', 22),\n",
       " ('NS/OT', 18),\n",
       " ('SUBAR', 18),\n",
       " ('INFIN', 13),\n",
       " ('LINCO', 12),\n",
       " ('CHRYS', 12),\n",
       " ('ACURA', 12),\n",
       " ('AUDI', 12),\n",
       " ('VOLVO', 12),\n",
       " ('MITSU', 11),\n",
       " ('ISUZU', 10),\n",
       " ('CADIL', 9),\n",
       " ('KIA', 8),\n",
       " ('VOLKS', 8),\n",
       " ('HIN', 6),\n",
       " ('KENWO', 5),\n",
       " ('', 5),\n",
       " ('ROVER', 5),\n",
       " ('BUICK', 5),\n",
       " ('MAZDA', 5),\n",
       " ('MERCU', 4),\n",
       " ('JAGUA', 3),\n",
       " ('SMART', 3),\n",
       " ('PORSC', 3),\n",
       " ('WORKH', 2),\n",
       " ('SATUR', 2),\n",
       " ('SCION', 2),\n",
       " ('SAAB', 2),\n",
       " ('HINO', 2),\n",
       " ('FIR', 1),\n",
       " ('OLDSM', 1),\n",
       " ('PETER', 1),\n",
       " ('CITRO', 1),\n",
       " ('GEO', 1),\n",
       " ('YAMAH', 1),\n",
       " ('BSA', 1),\n",
       " ('MINI', 1),\n",
       " ('PONTI', 1),\n",
       " ('SPRI', 1),\n",
       " ('PLYMO', 1),\n",
       " ('UPS', 1),\n",
       " ('FIAT', 1),\n",
       " ('UD', 1),\n",
       " ('UTILI', 1),\n",
       " ('GMCQ', 1),\n",
       " ('STAR', 1),\n",
       " ('AM/T', 1),\n",
       " ('MI/F', 1)]"
      ]
     },
     "execution_count": 2,
     "metadata": {},
     "output_type": "execute_result"
    }
   ],
   "source": [
    "summon_obj = ParkingSummonIterator('nyc_parking_tickets_extract-1.csv')\n",
    "calculate_violations_by_make(summon_obj)"
   ]
  },
  {
   "cell_type": "code",
   "execution_count": null,
   "metadata": {},
   "outputs": [],
   "source": []
  }
 ],
 "metadata": {
  "kernelspec": {
   "display_name": "Python 3",
   "language": "python",
   "name": "python3"
  },
  "language_info": {
   "codemirror_mode": {
    "name": "ipython",
    "version": 3
   },
   "file_extension": ".py",
   "mimetype": "text/x-python",
   "name": "python",
   "nbconvert_exporter": "python",
   "pygments_lexer": "ipython3",
   "version": "3.9.6"
  }
 },
 "nbformat": 4,
 "nbformat_minor": 2
}
